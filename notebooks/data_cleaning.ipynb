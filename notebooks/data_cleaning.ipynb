{
 "cells": [
  {
   "cell_type": "code",
   "execution_count": 1,
   "id": "58703c10",
   "metadata": {},
   "outputs": [],
   "source": [
    "import pandas as pd\n",
    "import numpy as np\n",
    "import scipy as sp, scipy.stats\n",
    "import warnings\n",
    "warnings.filterwarnings(\"ignore\")"
   ]
  },
  {
   "cell_type": "code",
   "execution_count": 3,
   "id": "488b457d",
   "metadata": {},
   "outputs": [],
   "source": [
    "# data_2010 = pd.read_csv('/Users/riyamhatre/Desktop/holidays_2010.csv')\n",
    "# data_2011 = pd.read_csv('/Users/riyamhatre/Desktop/holidays_2011.csv')\n",
    "# data = pd.concat([data_2010, data_2011]).drop(columns = {\"Unnamed: 0\"})"
   ]
  },
  {
   "cell_type": "code",
   "execution_count": 5,
   "id": "073d5674",
   "metadata": {},
   "outputs": [],
   "source": [
    "data = pd.read_csv('/Users/riyamhatre/Desktop/data.csv').drop(columns = {\"Unnamed: 0\"})"
   ]
  },
  {
   "cell_type": "code",
   "execution_count": 6,
   "id": "cafe445f",
   "metadata": {},
   "outputs": [
    {
     "data": {
      "text/plain": [
       "(541909, 11)"
      ]
     },
     "execution_count": 6,
     "metadata": {},
     "output_type": "execute_result"
    }
   ],
   "source": [
    "data.shape"
   ]
  },
  {
   "cell_type": "code",
   "execution_count": 7,
   "id": "9670972b",
   "metadata": {},
   "outputs": [],
   "source": [
    "data['Country']= data['Country'].replace(\"EIRE\", \"Ireland\")"
   ]
  },
  {
   "cell_type": "code",
   "execution_count": 8,
   "id": "4ae69071",
   "metadata": {},
   "outputs": [
    {
     "data": {
      "text/html": [
       "<div>\n",
       "<style scoped>\n",
       "    .dataframe tbody tr th:only-of-type {\n",
       "        vertical-align: middle;\n",
       "    }\n",
       "\n",
       "    .dataframe tbody tr th {\n",
       "        vertical-align: top;\n",
       "    }\n",
       "\n",
       "    .dataframe thead th {\n",
       "        text-align: right;\n",
       "    }\n",
       "</style>\n",
       "<table border=\"1\" class=\"dataframe\">\n",
       "  <thead>\n",
       "    <tr style=\"text-align: right;\">\n",
       "      <th></th>\n",
       "      <th>InvoiceNo</th>\n",
       "      <th>StockCode</th>\n",
       "      <th>Description</th>\n",
       "      <th>Quantity</th>\n",
       "      <th>InvoiceDate</th>\n",
       "      <th>UnitPrice</th>\n",
       "      <th>CustomerID</th>\n",
       "      <th>Country</th>\n",
       "      <th>Month</th>\n",
       "      <th>CombinedDate</th>\n",
       "      <th>Holiday</th>\n",
       "    </tr>\n",
       "  </thead>\n",
       "  <tbody>\n",
       "    <tr>\n",
       "      <th>0</th>\n",
       "      <td>536365</td>\n",
       "      <td>85123A</td>\n",
       "      <td>WHITE HANGING HEART T-LIGHT HOLDER</td>\n",
       "      <td>6</td>\n",
       "      <td>2010-12-01 08:26:00</td>\n",
       "      <td>2.55</td>\n",
       "      <td>17850.0</td>\n",
       "      <td>UNITED KINGDOM</td>\n",
       "      <td>December</td>\n",
       "      <td>December 1</td>\n",
       "      <td>NaN</td>\n",
       "    </tr>\n",
       "    <tr>\n",
       "      <th>1</th>\n",
       "      <td>536365</td>\n",
       "      <td>71053</td>\n",
       "      <td>WHITE METAL LANTERN</td>\n",
       "      <td>6</td>\n",
       "      <td>2010-12-01 08:26:00</td>\n",
       "      <td>3.39</td>\n",
       "      <td>17850.0</td>\n",
       "      <td>UNITED KINGDOM</td>\n",
       "      <td>December</td>\n",
       "      <td>December 1</td>\n",
       "      <td>NaN</td>\n",
       "    </tr>\n",
       "    <tr>\n",
       "      <th>2</th>\n",
       "      <td>536365</td>\n",
       "      <td>84406B</td>\n",
       "      <td>CREAM CUPID HEARTS COAT HANGER</td>\n",
       "      <td>8</td>\n",
       "      <td>2010-12-01 08:26:00</td>\n",
       "      <td>2.75</td>\n",
       "      <td>17850.0</td>\n",
       "      <td>UNITED KINGDOM</td>\n",
       "      <td>December</td>\n",
       "      <td>December 1</td>\n",
       "      <td>NaN</td>\n",
       "    </tr>\n",
       "    <tr>\n",
       "      <th>3</th>\n",
       "      <td>536365</td>\n",
       "      <td>84029G</td>\n",
       "      <td>KNITTED UNION FLAG HOT WATER BOTTLE</td>\n",
       "      <td>6</td>\n",
       "      <td>2010-12-01 08:26:00</td>\n",
       "      <td>3.39</td>\n",
       "      <td>17850.0</td>\n",
       "      <td>UNITED KINGDOM</td>\n",
       "      <td>December</td>\n",
       "      <td>December 1</td>\n",
       "      <td>NaN</td>\n",
       "    </tr>\n",
       "    <tr>\n",
       "      <th>4</th>\n",
       "      <td>536365</td>\n",
       "      <td>84029E</td>\n",
       "      <td>RED WOOLLY HOTTIE WHITE HEART</td>\n",
       "      <td>6</td>\n",
       "      <td>2010-12-01 08:26:00</td>\n",
       "      <td>3.39</td>\n",
       "      <td>17850.0</td>\n",
       "      <td>UNITED KINGDOM</td>\n",
       "      <td>December</td>\n",
       "      <td>December 1</td>\n",
       "      <td>NaN</td>\n",
       "    </tr>\n",
       "  </tbody>\n",
       "</table>\n",
       "</div>"
      ],
      "text/plain": [
       "  InvoiceNo StockCode                          Description  Quantity  \\\n",
       "0    536365    85123A   WHITE HANGING HEART T-LIGHT HOLDER         6   \n",
       "1    536365     71053                  WHITE METAL LANTERN         6   \n",
       "2    536365    84406B       CREAM CUPID HEARTS COAT HANGER         8   \n",
       "3    536365    84029G  KNITTED UNION FLAG HOT WATER BOTTLE         6   \n",
       "4    536365    84029E        RED WOOLLY HOTTIE WHITE HEART         6   \n",
       "\n",
       "           InvoiceDate  UnitPrice  CustomerID         Country     Month  \\\n",
       "0  2010-12-01 08:26:00       2.55     17850.0  UNITED KINGDOM  December   \n",
       "1  2010-12-01 08:26:00       3.39     17850.0  UNITED KINGDOM  December   \n",
       "2  2010-12-01 08:26:00       2.75     17850.0  UNITED KINGDOM  December   \n",
       "3  2010-12-01 08:26:00       3.39     17850.0  UNITED KINGDOM  December   \n",
       "4  2010-12-01 08:26:00       3.39     17850.0  UNITED KINGDOM  December   \n",
       "\n",
       "  CombinedDate Holiday  \n",
       "0   December 1     NaN  \n",
       "1   December 1     NaN  \n",
       "2   December 1     NaN  \n",
       "3   December 1     NaN  \n",
       "4   December 1     NaN  "
      ]
     },
     "execution_count": 8,
     "metadata": {},
     "output_type": "execute_result"
    }
   ],
   "source": [
    "#Strings\n",
    "data['Description'] = data['Description'].str.replace('.','').str.upper().str.strip()\n",
    "data['InvoiceNo'] = data['InvoiceNo'].astype(str).str.upper()\n",
    "data['Country'] = data['Country'].str.upper()\n",
    "data.head()"
   ]
  },
  {
   "cell_type": "code",
   "execution_count": 9,
   "id": "4ca2bec9",
   "metadata": {},
   "outputs": [
    {
     "data": {
      "text/html": [
       "<div>\n",
       "<style scoped>\n",
       "    .dataframe tbody tr th:only-of-type {\n",
       "        vertical-align: middle;\n",
       "    }\n",
       "\n",
       "    .dataframe tbody tr th {\n",
       "        vertical-align: top;\n",
       "    }\n",
       "\n",
       "    .dataframe thead th {\n",
       "        text-align: right;\n",
       "    }\n",
       "</style>\n",
       "<table border=\"1\" class=\"dataframe\">\n",
       "  <thead>\n",
       "    <tr style=\"text-align: right;\">\n",
       "      <th></th>\n",
       "      <th>Quantity</th>\n",
       "      <th>UnitPrice</th>\n",
       "      <th>CustomerID</th>\n",
       "    </tr>\n",
       "  </thead>\n",
       "  <tbody>\n",
       "    <tr>\n",
       "      <th>count</th>\n",
       "      <td>541909.000000</td>\n",
       "      <td>541909.000000</td>\n",
       "      <td>406829.000000</td>\n",
       "    </tr>\n",
       "    <tr>\n",
       "      <th>mean</th>\n",
       "      <td>9.552250</td>\n",
       "      <td>4.611114</td>\n",
       "      <td>15287.690570</td>\n",
       "    </tr>\n",
       "    <tr>\n",
       "      <th>std</th>\n",
       "      <td>218.081158</td>\n",
       "      <td>96.759853</td>\n",
       "      <td>1713.600303</td>\n",
       "    </tr>\n",
       "    <tr>\n",
       "      <th>min</th>\n",
       "      <td>-80995.000000</td>\n",
       "      <td>-11062.060000</td>\n",
       "      <td>12346.000000</td>\n",
       "    </tr>\n",
       "    <tr>\n",
       "      <th>25%</th>\n",
       "      <td>1.000000</td>\n",
       "      <td>1.250000</td>\n",
       "      <td>13953.000000</td>\n",
       "    </tr>\n",
       "    <tr>\n",
       "      <th>50%</th>\n",
       "      <td>3.000000</td>\n",
       "      <td>2.080000</td>\n",
       "      <td>15152.000000</td>\n",
       "    </tr>\n",
       "    <tr>\n",
       "      <th>75%</th>\n",
       "      <td>10.000000</td>\n",
       "      <td>4.130000</td>\n",
       "      <td>16791.000000</td>\n",
       "    </tr>\n",
       "    <tr>\n",
       "      <th>max</th>\n",
       "      <td>80995.000000</td>\n",
       "      <td>38970.000000</td>\n",
       "      <td>18287.000000</td>\n",
       "    </tr>\n",
       "  </tbody>\n",
       "</table>\n",
       "</div>"
      ],
      "text/plain": [
       "            Quantity      UnitPrice     CustomerID\n",
       "count  541909.000000  541909.000000  406829.000000\n",
       "mean        9.552250       4.611114   15287.690570\n",
       "std       218.081158      96.759853    1713.600303\n",
       "min    -80995.000000  -11062.060000   12346.000000\n",
       "25%         1.000000       1.250000   13953.000000\n",
       "50%         3.000000       2.080000   15152.000000\n",
       "75%        10.000000       4.130000   16791.000000\n",
       "max     80995.000000   38970.000000   18287.000000"
      ]
     },
     "execution_count": 9,
     "metadata": {},
     "output_type": "execute_result"
    }
   ],
   "source": [
    "data.describe()"
   ]
  },
  {
   "cell_type": "code",
   "execution_count": 10,
   "id": "05504d8b",
   "metadata": {},
   "outputs": [],
   "source": [
    "# Remove Outliers Based on Z-score\n",
    "data = data[(np.abs(sp.stats.zscore(data['UnitPrice']))<3) & (np.abs(sp.stats.zscore(data['Quantity']))<5)]"
   ]
  },
  {
   "cell_type": "code",
   "execution_count": 11,
   "id": "e9310f25",
   "metadata": {},
   "outputs": [
    {
     "data": {
      "text/plain": [
       "InvoiceNo            0\n",
       "StockCode            0\n",
       "Description       1447\n",
       "Quantity             0\n",
       "InvoiceDate          0\n",
       "UnitPrice            0\n",
       "CustomerID      134778\n",
       "Country              0\n",
       "Month                0\n",
       "CombinedDate         0\n",
       "Holiday         536034\n",
       "dtype: int64"
      ]
     },
     "execution_count": 11,
     "metadata": {},
     "output_type": "execute_result"
    }
   ],
   "source": [
    "data.isnull().sum()"
   ]
  },
  {
   "cell_type": "code",
   "execution_count": 12,
   "id": "b8801546",
   "metadata": {},
   "outputs": [],
   "source": [
    "# Replace nan values in the Description column with appropriate values\n",
    "data.drop(data[(data['Quantity']>0) & (data.InvoiceNo.str.contains('C') == True)].index, inplace = True)\n",
    "data.drop(data[(data['Quantity']<0) & (data.InvoiceNo.str.contains('C') == False)].index, inplace = True)\n",
    "data.drop(data[data['Description'].str.contains('?',regex=False) == True].index, inplace = True)\n",
    "data.drop(data[data['UnitPrice'] == 0].index, inplace = True)\n",
    "\n",
    "for index,value in data[\"StockCode\"][data[\"Description\"].isna()==True].items():\n",
    "    if pd.notna(data[\"Description\"][data[\"StockCode\"] == value]).sum() != 0:\n",
    "        data[\"Description\"][index] = data[\"Description\"][data[\"StockCode\"] == value].mode()[0]\n",
    "    else:\n",
    "        data.drop(index = index, inplace = True)\n",
    "        \n",
    "data['Description'] = data['Description'].astype(str)"
   ]
  },
  {
   "cell_type": "code",
   "execution_count": 13,
   "id": "8514b4a6",
   "metadata": {},
   "outputs": [],
   "source": [
    "# Fixing Duplicate CustomerIDs\n",
    "for i,v in data.groupby('CustomerID')['Country'].unique().items():\n",
    "    if len(v)>1:\n",
    "        data['Country'][data['CustomerID'] == i] = data['Country'][data['CustomerID'] == i].mode()[0]\n",
    "\n",
    "# Adding More Features\n",
    "data['TotalPrice'] = data['Quantity']*data['UnitPrice']\n",
    "data['Day'] = data['CombinedDate'].str.split(' ').apply(lambda x: x[1])\n",
    "data[\"InvoiceDate\"] = pd.to_datetime(data['InvoiceDate'])\n",
    "data[\"DayofWeek\"] = data['InvoiceDate'].dt.day_name()"
   ]
  },
  {
   "cell_type": "code",
   "execution_count": 15,
   "id": "f28b140a",
   "metadata": {},
   "outputs": [],
   "source": [
    "# create a column that checks returns \n",
    "data['Returned'] = data['InvoiceNo'].apply(lambda x: True if x[0] == \"C\" else False)"
   ]
  },
  {
   "cell_type": "code",
   "execution_count": 17,
   "id": "05b52dbc",
   "metadata": {},
   "outputs": [],
   "source": [
    "# Group countries by region\n",
    "regions = {\n",
    "    \"Western Europe\": [\"UNITED KINGDOM\", \"FRANCE\", \"NETHERLANDS\", \"IRELAND\", \"BELGIUM\", \"SWITZERLAND\", \"PORTUGAL\", \"SPAIN\"],\n",
    "    \"Northern Europe\": [\"NORWAY\", \"DENMARK\", \"SWEDEN\", \"FINLAND\", \"ICELAND\"],\n",
    "    \"Eastern Europe\": [\"POLAND\", \"LITHUANIA\", \"CZECH REPUBLIC\"],\n",
    "    \"Southern Europe\": [\"ITALY\", \"CYPRUS\", \"GREECE\", \"MALTA\", \"AUSTRIA\"],\n",
    "    \"Middle East\": [\"ISRAEL\", \"LEBANON\", \"UNITED ARAB EMIRATES\", \"SAUDI ARABIA\", \"BAHRAIN\"],\n",
    "    \"East Asia\": [\"JAPAN\", \"CHINA\"],\n",
    "    \"Southeast Asia\": [\"SINGAPORE\"],\n",
    "    \"Oceania\": [\"AUSTRALIA\"],\n",
    "    \"North America\": [\"CANADA\", \"USA\"],\n",
    "    \"South America\": [\"BRAZIL\"],\n",
    "    \"Other\": [\"CHANNEL ISLANDS\", \"EUROPEAN COMMUNITY\", \"UNSPECIFIED\", \"RSA\"]\n",
    "}\n",
    "\n",
    "# Create the mapping using a dictionary comprehension\n",
    "region_map = {country: region for region, countries in regions.items() for country in countries}\n",
    "\n",
    "# Map the regions to the Country column and create a new Region column\n",
    "data[\"Region\"] = data[\"Country\"].map(region_map)"
   ]
  },
  {
   "cell_type": "code",
   "execution_count": 18,
   "id": "384afed6",
   "metadata": {},
   "outputs": [],
   "source": [
    "# Export Data\n",
    "# from pathlib import Path\n",
    "# filepath = Path('/Users/riyamhatre/Desktop/cleaned_data.csv')\n",
    "# filepath.parent.mkdir(parents=True, exist_ok = True)\n",
    "# data.to_csv(filepath)"
   ]
  }
 ],
 "metadata": {
  "kernelspec": {
   "display_name": "Python 3",
   "language": "python",
   "name": "python3"
  },
  "language_info": {
   "codemirror_mode": {
    "name": "ipython",
    "version": 3
   },
   "file_extension": ".py",
   "mimetype": "text/x-python",
   "name": "python",
   "nbconvert_exporter": "python",
   "pygments_lexer": "ipython3",
   "version": "3.8.5"
  }
 },
 "nbformat": 4,
 "nbformat_minor": 5
}
